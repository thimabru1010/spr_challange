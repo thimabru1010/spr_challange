{
 "cells": [
  {
   "cell_type": "code",
   "execution_count": 1,
   "metadata": {},
   "outputs": [],
   "source": [
    "import pandas as pd\n",
    "import numpy as np"
   ]
  },
  {
   "cell_type": "code",
   "execution_count": 2,
   "metadata": {},
   "outputs": [
    {
     "name": "stdout",
     "output_type": "stream",
     "text": [
      "   StudyID   Age\n",
      "0     2839  20.0\n",
      "1     2827  21.0\n",
      "2     2817  18.0\n",
      "3     2953  21.0\n",
      "4     2971  19.0\n",
      "5     2834  15.0\n",
      "6     2860  21.0\n",
      "7     2859  25.0\n",
      "8     2792  22.0\n",
      "9     2801  23.0\n"
     ]
    }
   ],
   "source": [
    "csv_path = '/home/thiago/IDOR/SPR_HeadCT_Age_Prediction_Challenge/spr_challange/work_dirs/exp1_densenet161/submission.csv'\n",
    "\n",
    "df = pd.read_csv(csv_path)\n",
    "\n",
    "df['Age'] = df['Age'].apply(lambda x: abs(x))\n",
    "print(df.head(10))"
   ]
  },
  {
   "cell_type": "code",
   "execution_count": 3,
   "metadata": {},
   "outputs": [],
   "source": [
    "df.to_csv('/home/thiago/IDOR/SPR_HeadCT_Age_Prediction_Challenge/spr_challange/work_dirs/exp1_densenet161/submission_abs.csv', index=False)"
   ]
  },
  {
   "cell_type": "code",
   "execution_count": 11,
   "metadata": {},
   "outputs": [],
   "source": [
    "csv1_path = '/home/thiago/IDOR/SPR_HeadCT_Age_Prediction_Challenge/spr_challange/work_dirs/exp1_effcb4/submission.csv'\n",
    "csv2_path = '/home/thiago/IDOR/SPR_HeadCT_Age_Prediction_Challenge/spr_challange/work_dirs/exp4_effcnetb5_full/exp4_effcnetb5_full/submission.csv'"
   ]
  },
  {
   "cell_type": "code",
   "execution_count": 12,
   "metadata": {},
   "outputs": [],
   "source": [
    "df1 = pd.read_csv(csv1_path).sort_values('StudyID')\n",
    "df2 = pd.read_csv(csv2_path).sort_values('StudyID')"
   ]
  },
  {
   "cell_type": "code",
   "execution_count": 13,
   "metadata": {},
   "outputs": [
    {
     "name": "stdout",
     "output_type": "stream",
     "text": [
      "     StudyID   Age\n",
      "63      2763  39.0\n",
      "99      2764  42.0\n",
      "145     2770  47.0\n",
      "68      2771  67.0\n",
      "39      2772  24.0\n",
      "89      2774  49.0\n",
      "77      2775  32.0\n",
      "138     2776  49.0\n",
      "32      2778  32.0\n",
      "54      2779  24.0\n"
     ]
    }
   ],
   "source": [
    "print(df1.head(10))"
   ]
  },
  {
   "cell_type": "code",
   "execution_count": 9,
   "metadata": {},
   "outputs": [
    {
     "name": "stdout",
     "output_type": "stream",
     "text": [
      "     StudyID   Age\n",
      "72      2763  54.0\n",
      "33      2764  56.0\n",
      "68      2770  53.0\n",
      "82      2771  63.0\n",
      "101     2772  44.0\n",
      "31      2774  62.0\n",
      "14      2775  56.0\n",
      "16      2776  60.0\n",
      "118     2778  63.0\n",
      "90      2779  44.0\n"
     ]
    }
   ],
   "source": [
    "print(df2.head(10))"
   ]
  },
  {
   "cell_type": "code",
   "execution_count": 14,
   "metadata": {},
   "outputs": [
    {
     "name": "stdout",
     "output_type": "stream",
     "text": [
      "37.46621621621622 57.12837837837838\n"
     ]
    }
   ],
   "source": [
    "print(df1['Age'].mean(), df2['Age'].mean())"
   ]
  },
  {
   "cell_type": "code",
   "execution_count": null,
   "metadata": {},
   "outputs": [],
   "source": []
  }
 ],
 "metadata": {
  "kernelspec": {
   "display_name": "base",
   "language": "python",
   "name": "python3"
  },
  "language_info": {
   "codemirror_mode": {
    "name": "ipython",
    "version": 3
   },
   "file_extension": ".py",
   "mimetype": "text/x-python",
   "name": "python",
   "nbconvert_exporter": "python",
   "pygments_lexer": "ipython3",
   "version": "3.10.12"
  }
 },
 "nbformat": 4,
 "nbformat_minor": 2
}
